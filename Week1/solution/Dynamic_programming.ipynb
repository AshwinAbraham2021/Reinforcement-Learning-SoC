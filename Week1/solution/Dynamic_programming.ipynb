{
 "cells": [
  {
   "cell_type": "code",
   "execution_count": 1,
   "metadata": {},
   "outputs": [],
   "source": [
    "import numpy as np\n",
    "import filecmp\n",
    "\n"
   ]
  },
  {
   "cell_type": "code",
   "execution_count": 2,
   "metadata": {},
   "outputs": [],
   "source": [
    "\n",
    "class DP:\n",
    "    def __init__(self,filename) :\n",
    "        \n",
    "        f=open(f\"MDPS/{filename}\")\n",
    "        file=f.read()\n",
    "        f.close()\n",
    "        file=file.split(\"\\n\")\n",
    "        del file[-1]\n",
    "        self.n_s=int(file.pop(0).split()[1])\n",
    "        self.n_a=int(file.pop(0).split()[1])\n",
    "        self.gamma=float(file.pop().split()[1])\n",
    "        self.MDP={}\n",
    "        for i in range(self.n_s):\n",
    "            self.MDP[i]={}\n",
    "            for j in range(self.n_a):\n",
    "                self.MDP[i][j]=[]\n",
    "                for line in file:\n",
    "                    line=line.split()\n",
    "                    if(int(line[1])==i and int(line[2])==j):\n",
    "                        self.MDP[i][j].append(tuple([int(line[3]),float(line[4]),float(line[5])]))\n",
    "                        \n",
    "    def policy_iteration(self,theta):\n",
    "        \n",
    "        self.pi=np.random.choice(tuple(self.MDP[0].keys()),size=self.n_s) # random policy\n",
    "        prev_val=np.zeros(self.n_s)\n",
    "        while True:\n",
    "            self.val=np.zeros(self.n_s)\n",
    "            #policy evaluation\n",
    "            for s in range(self.n_s):\n",
    "                \n",
    "                for next_state,reward,prob in self.MDP[s][self.pi[s]]:\n",
    "                    self.val[s]+=prob*(reward+self.gamma*prev_val[next_state])\n",
    "\n",
    "            if( np.max(np.abs(self.val-prev_val)) <theta):\n",
    "                break\n",
    "\n",
    "            #policy improvement\n",
    "            q=np.zeros([self.n_s,self.n_a])\n",
    "            for s in range(self.n_s):\n",
    "                for a in range(self.n_a):\n",
    "                    for next_state,reward,prob in self.MDP[s][a]:\n",
    "                       q[s][a]+=prob*(reward+self.gamma*self.val[next_state])\n",
    "            self.pi=np.argmax(q,axis=1) \n",
    "            prev_val=self.val.copy()\n",
    "            \n",
    "\n",
    "    \n",
    "    def output(self,output_file):\n",
    "        f=open(f\"DP-sol-{output_file}\",'w')\n",
    "        for i in range(self.n_s):\n",
    "            val=\"%.6f\" % round(self.val[i], 6)\n",
    "            f.write(f\"{val} {self.pi[i]}\\n\")\n",
    "        f.close\n",
    "\n",
    "    def compare_sol(self,file1,file2):\n",
    "        compare=filecmp.cmp(file1,file2)\n",
    "        if(compare):\n",
    "            print(\"Solution is correct\")\n",
    "        else:\n",
    "            print(\"Wrong solution\")\n",
    "\n",
    "        "
   ]
  },
  {
   "cell_type": "code",
   "execution_count": 3,
   "metadata": {},
   "outputs": [
    {
     "name": "stdout",
     "output_type": "stream",
     "text": [
      "Solution is correct\n"
     ]
    }
   ],
   "source": [
    "First=DP(\"mdp-2-2.txt\")\n",
    "First.policy_iteration(1e-10)\n",
    "First.output(\"mdp-2-2.txt\")\n",
    "First.compare_sol(\"MDPS/sol-mdp-2-2.txt\",\"DP-sol-mdp-2-2.txt\")\n"
   ]
  },
  {
   "cell_type": "code",
   "execution_count": 4,
   "metadata": {},
   "outputs": [
    {
     "name": "stdout",
     "output_type": "stream",
     "text": [
      "Solution is correct\n"
     ]
    }
   ],
   "source": [
    "Second=DP(\"mdp-10-5.txt\")\n",
    "Second.policy_iteration(1e-10)\n",
    "Second.output(\"mdp-10-5.txt\")\n",
    "Second.compare_sol(\"MDPS/sol-mdp-10-5.txt\",\"DP-sol-mdp-10-5.txt\")"
   ]
  },
  {
   "cell_type": "code",
   "execution_count": null,
   "metadata": {},
   "outputs": [],
   "source": []
  }
 ],
 "metadata": {
  "kernelspec": {
   "display_name": "Python 3",
   "language": "python",
   "name": "python3"
  },
  "language_info": {
   "codemirror_mode": {
    "name": "ipython",
    "version": 3
   },
   "file_extension": ".py",
   "mimetype": "text/x-python",
   "name": "python",
   "nbconvert_exporter": "python",
   "pygments_lexer": "ipython3",
   "version": "3.10.1"
  },
  "orig_nbformat": 4
 },
 "nbformat": 4,
 "nbformat_minor": 2
}
