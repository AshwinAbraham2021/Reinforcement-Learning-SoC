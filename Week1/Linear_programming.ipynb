{
 "cells": [
  {
   "cell_type": "code",
   "execution_count": 1,
   "metadata": {},
   "outputs": [
    {
     "ename": "ModuleNotFoundError",
     "evalue": "No module named 'pulp'",
     "output_type": "error",
     "traceback": [
      "\u001b[1;31m---------------------------------------------------------------------------\u001b[0m",
      "\u001b[1;31mModuleNotFoundError\u001b[0m                       Traceback (most recent call last)",
      "Cell \u001b[1;32mIn[1], line 3\u001b[0m\n\u001b[0;32m      1\u001b[0m \u001b[39mimport\u001b[39;00m \u001b[39mnumpy\u001b[39;00m \u001b[39mas\u001b[39;00m \u001b[39mnp\u001b[39;00m\n\u001b[0;32m      2\u001b[0m \u001b[39mimport\u001b[39;00m \u001b[39mfilecmp\u001b[39;00m\n\u001b[1;32m----> 3\u001b[0m \u001b[39mfrom\u001b[39;00m \u001b[39mpulp\u001b[39;00m \u001b[39mimport\u001b[39;00m \u001b[39m*\u001b[39m\n",
      "\u001b[1;31mModuleNotFoundError\u001b[0m: No module named 'pulp'"
     ]
    }
   ],
   "source": [
    "import numpy as np\n",
    "import filecmp\n",
    "from pulp import *"
   ]
  },
  {
   "cell_type": "code",
   "execution_count": 39,
   "metadata": {},
   "outputs": [],
   "source": [
    "class LP:\n",
    "    def __init__(self,filename):\n",
    "        f=open(f\"MDPS/{filename}\")\n",
    "        file=f.read()\n",
    "        f.close()\n",
    "        file=file.split(\"\\n\")\n",
    "        del file[-1]\n",
    "        self.n_s=int(file.pop(0).split()[1])\n",
    "        self.n_a=int(file.pop(0).split()[1])\n",
    "        self.gamma=float(file.pop().split()[1])\n",
    "        self.MDP={}\n",
    "        for i in range(self.n_s):\n",
    "            self.MDP[i]={}\n",
    "            for j in range(self.n_a):\n",
    "                self.MDP[i][j]=[]\n",
    "                for line in file:\n",
    "                    line=line.split()\n",
    "                    if(int(line[1])==i and int(line[2])==j):\n",
    "                        self.MDP[i][j].append(tuple([int(line[3]),float(line[4]),float(line[5])]))\n",
    "    \n",
    "    def linear_programming(self):\n",
    "\n",
    "        model=LpProblem(\"MDP\",LpMinimize)\n",
    "\n",
    "        #variables\n",
    "        val={i : LpVariable(name=f\"x{i}\",lowBound=0,cat=LpContinuous) for i in range(self.n_s)}\n",
    "        \n",
    "        #constraints\n",
    "        for s in range(self.n_s):\n",
    "            acc=0\n",
    "            for a in range(self.n_a):\n",
    "                for next_state,reward,prob in self.MDP[s][a]:\n",
    "                    acc+=prob*(reward+self.gamma*val[next_state])\n",
    "                    acc=(-1)*acc\n",
    "            model+=(val[s]+acc>=0,f\"val{s}_contraint\")\n",
    "\n",
    "        #objective\n",
    "        model+=lpSum(val.values())\n",
    "\n",
    "        # Solve the optimization problem\n",
    "        status = model.solve()\n",
    "\n",
    "        # Get the results\n",
    "        print(f\"status: {model.status}, {LpStatus[model.status]}\")\n",
    "        print(f\"objective: {model.objective.value()}\")\n",
    "\n",
    "        self.values=[]\n",
    "        for var in val.values():\n",
    "            self.values.append(float(var.value()))\n",
    "\n",
    "        q=np.zeros([self.n_s,self.n_a])\n",
    "        for s in range(self.n_s):\n",
    "            for a in range(self.n_a):\n",
    "                for next_state,reward,prob in self.MDP[s][a]:\n",
    "                       q[s][a]+=prob*(reward+self.gamma*self.values[next_state])\n",
    "        self.pi=np.argmax(q,axis=1)\n",
    "\n",
    "    def output(self,output_file):\n",
    "        f=open(f\"LP-sol-{output_file}\",'w')\n",
    "        for i in range(self.n_s):\n",
    "            # val=\"%.6f\" % round(float(self.values[i]), 6)\n",
    "            f.write(f\"{self.values[i]} {self.pi[i]}\\n\")\n",
    "            #f.write(f\"{self.values[i]}\\n\")\n",
    "        f.close\n",
    "\n",
    "    def compare_sol(self,file1,file2):\n",
    "        compare=filecmp.cmp(file1,file2)\n",
    "        if(compare):\n",
    "            print(\"Solution is correct\")\n",
    "        else:\n",
    "            print(\"Wrong solution\")"
   ]
  },
  {
   "cell_type": "code",
   "execution_count": 40,
   "metadata": {},
   "outputs": [
    {
     "name": "stdout",
     "output_type": "stream",
     "text": [
      "status: 1, Optimal\n",
      "objective: 0.73244355\n",
      "Wrong solution\n"
     ]
    }
   ],
   "source": [
    "First=LP(\"mdp-2-2.txt\")\n",
    "First.linear_programming()\n",
    "First.output(\"mdp-2-2.txt\")\n",
    "First.compare_sol(\"MDPS/sol-mdp-2-2.txt\",\"LP-sol-mdp-2-2.txt\")\n"
   ]
  },
  {
   "cell_type": "code",
   "execution_count": null,
   "metadata": {},
   "outputs": [],
   "source": [
    "Second=LP(\"mdp-10-5.txt\")\n",
    "Second.linear_programming()\n",
    "Second.output(\"mdp-10-5.txt\")\n",
    "Second.compare_sol(\"MDPS/sol-mdp-10-5.txt\",\"LP-sol-mdp-10-5.txt\")"
   ]
  },
  {
   "cell_type": "code",
   "execution_count": null,
   "metadata": {},
   "outputs": [],
   "source": []
  }
 ],
 "metadata": {
  "kernelspec": {
   "display_name": "Python 3",
   "language": "python",
   "name": "python3"
  },
  "language_info": {
   "codemirror_mode": {
    "name": "ipython",
    "version": 3
   },
   "file_extension": ".py",
   "mimetype": "text/x-python",
   "name": "python",
   "nbconvert_exporter": "python",
   "pygments_lexer": "ipython3",
   "version": "3.10.1"
  },
  "orig_nbformat": 4
 },
 "nbformat": 4,
 "nbformat_minor": 2
}
