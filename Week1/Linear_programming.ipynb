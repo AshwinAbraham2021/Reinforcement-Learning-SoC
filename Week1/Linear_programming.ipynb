{
 "cells": [
  {
   "cell_type": "code",
   "execution_count": 8,
   "metadata": {},
   "outputs": [],
   "source": [
    "import numpy as np\n",
    "import filecmp\n",
    "from pulp import *\n",
    "import time"
   ]
  },
  {
   "cell_type": "code",
   "execution_count": 9,
   "metadata": {},
   "outputs": [],
   "source": [
    "class LP:\n",
    "    def __init__(self,filename):\n",
    "        f=open(f\"MDPS/{filename}\")\n",
    "        file=f.read()\n",
    "        f.close()\n",
    "        file=file.split(\"\\n\")\n",
    "        del file[-1]\n",
    "        self.n_s=int(file.pop(0).split()[1])\n",
    "        self.n_a=int(file.pop(0).split()[1])\n",
    "        self.gamma=float(file.pop().split()[1])\n",
    "        self.MDP={}\n",
    "        for i in range(self.n_s):\n",
    "            self.MDP[i]={}\n",
    "            for j in range(self.n_a):\n",
    "                self.MDP[i][j]=[]\n",
    "                for line in file:\n",
    "                    line=line.split()\n",
    "                    if(int(line[1])==i and int(line[2])==j):\n",
    "                        self.MDP[i][j].append(tuple([int(line[3]),float(line[4]),float(line[5])]))\n",
    "                        \n",
    "    \n",
    "    def linear_programming(self):\n",
    "\n",
    "        self.pi=np.zeros(self.n_s,dtype=int)\n",
    "        while True:\n",
    "    \n",
    "            model=LpProblem(\"MDP\",LpMinimize)\n",
    "\n",
    "            #variables\n",
    "            val={i : LpVariable(name=f\"x{i}\",lowBound=0,cat=LpContinuous) for i in range(self.n_s*self.n_a)}\n",
    "\n",
    "    #constraints\n",
    "    \n",
    "            for s in range(self.n_s):\n",
    "                \n",
    "                for a in range(self.n_a):\n",
    "                    acc=0\n",
    "                    for next_state,reward,prob in self.MDP[s][a]:\n",
    "                        acc+=prob*(reward+self.gamma*val[next_state*self.n_a+self.pi[next_state]])\n",
    "                        #print(np.max(np.array(l)))\n",
    "                    model+=((val[s*self.n_a+a]-acc) >=0,f\"val{s*self.n_a+a}_constraint\")\n",
    "            \n",
    "\n",
    "    #objective\n",
    "            model+=lpSum(val.values())\n",
    "\n",
    "    # Solve the optimization problem\n",
    "            status = model.solve()\n",
    "\n",
    "\n",
    "          \n",
    "\n",
    "            vals=np.array([\"%.6f\" % round(var.value(), 6) for var in val.values()]).reshape([self.n_s,self.n_a])\n",
    "            \n",
    "            pi_new=np.argmax(vals,axis=1)\n",
    "            \n",
    "            if(np.array_equal(self.pi,pi_new)):\n",
    "                break\n",
    "            self.pi=pi_new\n",
    "\n",
    "        self.values=vals[[i for i in range(self.n_s)],self.pi]\n",
    "    #----------------------------------------------------------xxx--------------------------------------------------------------------------#\n",
    "\n",
    "    def output(self,output_file):\n",
    "        f=open(f\"LP-sol-{output_file}\",'w')\n",
    "        for i in range(self.n_s):\n",
    "            f.write(f\"{self.values[i]} {self.pi[i]}\\n\")\n",
    "            #f.write(f\"{self.values[i]}\\n\")\n",
    "        f.close\n",
    "\n",
    "    def compare_sol(self,file1,file2):\n",
    "        compare=filecmp.cmp(file1,file2)\n",
    "        if(compare):\n",
    "            print(\"Solution is correct\")\n",
    "        else:\n",
    "            print(\"Wrong solution\")"
   ]
  },
  {
   "cell_type": "code",
   "execution_count": 10,
   "metadata": {},
   "outputs": [
    {
     "name": "stdout",
     "output_type": "stream",
     "text": [
      "Solution is correct\n",
      "Time taken is 0.03276538848876953 s\n"
     ]
    }
   ],
   "source": [
    "start=time.time()\n",
    "First=LP(\"mdp-2-2.txt\")\n",
    "First.linear_programming()\n",
    "First.output(\"mdp-2-2.txt\")\n",
    "First.compare_sol(\"MDPS/sol-mdp-2-2.txt\",\"LP-sol-mdp-2-2.txt\")\n",
    "\n",
    "end=time.time()\n",
    "print(\"Time taken is\",end-start,\"s\")"
   ]
  },
  {
   "cell_type": "code",
   "execution_count": 11,
   "metadata": {},
   "outputs": [
    {
     "name": "stdout",
     "output_type": "stream",
     "text": [
      "Solution is correct\n",
      "Time taken is 0.09855031967163086 s\n"
     ]
    }
   ],
   "source": [
    "start=time.time()\n",
    "Second=LP(\"mdp-10-5.txt\")\n",
    "Second.linear_programming()\n",
    "Second.output(\"mdp-10-5.txt\")\n",
    "Second.compare_sol(\"MDPS/sol-mdp-10-5.txt\",\"LP-sol-mdp-10-5.txt\")\n",
    "\n",
    "end=time.time()\n",
    "print(\"Time taken is\",end-start,\"s\")"
   ]
  },
  {
   "cell_type": "code",
   "execution_count": null,
   "metadata": {},
   "outputs": [],
   "source": []
  }
 ],
 "metadata": {
  "kernelspec": {
   "display_name": "Python 3",
   "language": "python",
   "name": "python3"
  },
  "language_info": {
   "codemirror_mode": {
    "name": "ipython",
    "version": 3
   },
   "file_extension": ".py",
   "mimetype": "text/x-python",
   "name": "python",
   "nbconvert_exporter": "python",
   "pygments_lexer": "ipython3",
   "version": "3.10.1"
  },
  "orig_nbformat": 4
 },
 "nbformat": 4,
 "nbformat_minor": 2
}
